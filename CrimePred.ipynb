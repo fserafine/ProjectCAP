{
 "cells": [
  {
   "cell_type": "markdown",
   "id": "a1b1f0c3",
   "metadata": {},
   "source": [
    "# Crime Prediction\n",
    "## - Author: Frank Serafine\n",
    "---\n",
    "\n",
    "**GOAL:** Train various time series machine learning models to predict crime activity over a year, given ten years of history.\n",
    "\n",
    "**SOURCE:** FBI's [Crime Data Explorer](https://crime-data-explorer.fr.cloud.gov/pages/downloads)\n",
    "\n",
    "**TRIMMED INCIDENT-LEVEL DATA SET:** [Crime_Pred.csv](https://drive.google.com/file/d/1nM8-DCRj2GA8FxOi04btjwks0gxKAQom/view?usp=sharing)"
   ]
  },
  {
   "cell_type": "code",
   "execution_count": 1,
   "id": "94fcd8e7",
   "metadata": {},
   "outputs": [],
   "source": [
    "import numpy as np\n",
    "import pandas as pd\n",
    "import matplotlib.pyplot as plt"
   ]
  },
  {
   "cell_type": "code",
   "execution_count": null,
   "id": "4b19d535",
   "metadata": {},
   "outputs": [],
   "source": [
    "df = pd.read_csv('Crime_Pred.csv')\n",
    "df_altdrop = pd.read_csv('crimepred_altdrop.csv')\n",
    "df.head()"
   ]
  },
  {
   "cell_type": "code",
   "execution_count": null,
   "id": "9f33cf19",
   "metadata": {},
   "outputs": [],
   "source": [
    "# Percentage of total observations that are null:\n",
    "\n",
    "df.isna().sum()/df.shape[0]*100\n",
    "\n",
    "# 4.6% of crime incidents did not have an hour logged.\n",
    "# 34.6% of crime incidents did not log the age of the offender.\n",
    "# 27.4% of crime incidents did not have an age listed for the victim, but this does not always indicate an omission:\n",
    "# Crimes against an institution or against society do not have a specific victim and thus no victim age."
   ]
  },
  {
   "cell_type": "code",
   "execution_count": null,
   "id": "1cdbf6ff",
   "metadata": {},
   "outputs": [],
   "source": [
    "df.info()"
   ]
  },
  {
   "cell_type": "code",
   "execution_count": null,
   "id": "826772c1",
   "metadata": {},
   "outputs": [],
   "source": [
    "df['Date'] = pd.to_datetime(df['Date']) "
   ]
  },
  {
   "cell_type": "code",
   "execution_count": null,
   "id": "69bb7438",
   "metadata": {
    "scrolled": true
   },
   "outputs": [],
   "source": [
    "dupe_data = df.duplicated(keep=False)\n",
    "df.loc[dupe_data, :]"
   ]
  },
  {
   "cell_type": "code",
   "execution_count": null,
   "id": "40004db7",
   "metadata": {},
   "outputs": [],
   "source": [
    "df.nunique()"
   ]
  },
  {
   "cell_type": "code",
   "execution_count": null,
   "id": "e20a987e",
   "metadata": {
    "scrolled": true
   },
   "outputs": [],
   "source": [
    "df_altdrop = df_altdrop.drop_duplicates(keep='first')"
   ]
  },
  {
   "cell_type": "code",
   "execution_count": null,
   "id": "aea28ebe",
   "metadata": {},
   "outputs": [],
   "source": [
    "df_altdrop.isna().sum()/df.shape[0]*100"
   ]
  },
  {
   "cell_type": "code",
   "execution_count": null,
   "id": "75ab6059",
   "metadata": {},
   "outputs": [],
   "source": [
    "# from sklearn.preprocessing import OneHotEncoder\n",
    "\n",
    "# # Instantiate the OneHotEncoder\n",
    "# ohe = OneHotEncoder()\n",
    "\n",
    "# # Fit the OneHotEncoder to the  column and transform\n",
    "# # It expects a 2D array, so we first convert the column into a DataFrame\n",
    "# offense = pd.DataFrame(df['Offense'])\n",
    "# encoded = ohe.fit_transform(subcategory)\n",
    "# encoded"
   ]
  },
  {
   "cell_type": "code",
   "execution_count": null,
   "id": "a3427813",
   "metadata": {},
   "outputs": [],
   "source": []
  }
 ],
 "metadata": {
  "kernelspec": {
   "display_name": "Python 3",
   "language": "python",
   "name": "python3"
  },
  "language_info": {
   "codemirror_mode": {
    "name": "ipython",
    "version": 3
   },
   "file_extension": ".py",
   "mimetype": "text/x-python",
   "name": "python",
   "nbconvert_exporter": "python",
   "pygments_lexer": "ipython3",
   "version": "3.8.8"
  }
 },
 "nbformat": 4,
 "nbformat_minor": 5
}
